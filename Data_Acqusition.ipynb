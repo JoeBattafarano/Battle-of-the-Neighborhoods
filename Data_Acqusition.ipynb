{
 "cells": [
  {
   "cell_type": "code",
   "execution_count": 1,
   "metadata": {},
   "outputs": [],
   "source": [
    "# Data Manipulation\n",
    "import pandas as pd\n",
    "import numpy as np\n",
    "# Map Data and Visual\n",
    "import folium\n",
    "from geopy.geocoders import Nominatim\n",
    "# Web Data\n",
    "import requests\n",
    "from bs4 import BeautifulSoup\n",
    "import json\n",
    "import re\n",
    "\n",
    "from geopy.geocoders import Nominatim"
   ]
  },
  {
   "cell_type": "markdown",
   "metadata": {},
   "source": [
    "# Battle of the Neighborhoods: Seattle Neighborhood Clustering"
   ]
  },
  {
   "cell_type": "markdown",
   "metadata": {},
   "source": [
    "## Notebook Reference:\n",
    "1. ***Data Acqusition: https://github.com/JoeBattafarano/Battle-of-the-Neighborhoods/blob/master/Data_Acqusition.ipynb***\n",
    "2. Data Preparation, Exploration, and Analysis: https://github.com/JoeBattafarano/Battle-of-the-Neighborhoods/blob/master/Data_Acqusition.ipynb\n",
    "3. Report: https://github.com/JoeBattafarano/Battle-of-the-Neighborhoods/blob/master/Seattle-Neighborhood-Clustering.docx\n",
    "4. Presentation: https://github.com/JoeBattafarano/Battle-of-the-Neighborhoods/blob/master/Seattle-Neighborhood-Clustering.pptx"
   ]
  },
  {
   "cell_type": "markdown",
   "metadata": {},
   "source": [
    "## Data Acquisition\n",
    "* [Scraping Addresses](#wiki)\n",
    "* [Geocoding Addresses](#geo)\n",
    "* [Foursquare Explore Endpoint](#explore)\n",
    "* [Foursquare Details Endpoint](#details)"
   ]
  },
  {
   "cell_type": "markdown",
   "metadata": {},
   "source": [
    "## Scraping Addresses: <a name='wiki'></a>"
   ]
  },
  {
   "cell_type": "code",
   "execution_count": 3,
   "metadata": {},
   "outputs": [],
   "source": [
    "# Getting Neighborhoods from Wikapedia\n",
    "neighborhood_url = 'https://en.wikipedia.org/wiki/List_of_neighborhoods_in_Seattle'\n",
    "neighborhood_response = requests.get(neighborhood_url)\n",
    "neighborhood_response_soup = BeautifulSoup(neighborhood_response.text)\n",
    "neighborhood_response_table = neighborhood_response_soup.find('tbody')\n",
    "neighborhood_response_table_rows = neighborhood_response_table.find_all('tr')[1:]"
   ]
  },
  {
   "cell_type": "code",
   "execution_count": 4,
   "metadata": {},
   "outputs": [],
   "source": [
    "# Setting up the dataframe\n",
    "headers  = ['Neighborhood name','Within larger district','Annexed','Locator Map','Street Map','Image','Notes']\n",
    "sn = pd.DataFrame(columns=headers)"
   ]
  },
  {
   "cell_type": "code",
   "execution_count": 5,
   "metadata": {},
   "outputs": [],
   "source": [
    "for i in range(len(neighborhood_response_table_rows)):\n",
    "    sn.loc[i] = [td.text.strip() for td in neighborhood_response_table_rows[i].find_all('td')]"
   ]
  },
  {
   "cell_type": "code",
   "execution_count": 6,
   "metadata": {},
   "outputs": [],
   "source": [
    "sn.drop(['Annexed','Locator Map','Street Map','Image','Notes'], axis=1,inplace=True)"
   ]
  },
  {
   "cell_type": "code",
   "execution_count": 7,
   "metadata": {},
   "outputs": [],
   "source": [
    "# Rename Columns:\n",
    "sn = sn.rename(columns={'Neighborhood name':'Neighborhood','Within larger district':'District'})"
   ]
  },
  {
   "cell_type": "code",
   "execution_count": 8,
   "metadata": {},
   "outputs": [
    {
     "data": {
      "text/html": [
       "<div>\n",
       "<style scoped>\n",
       "    .dataframe tbody tr th:only-of-type {\n",
       "        vertical-align: middle;\n",
       "    }\n",
       "\n",
       "    .dataframe tbody tr th {\n",
       "        vertical-align: top;\n",
       "    }\n",
       "\n",
       "    .dataframe thead th {\n",
       "        text-align: right;\n",
       "    }\n",
       "</style>\n",
       "<table border=\"1\" class=\"dataframe\">\n",
       "  <thead>\n",
       "    <tr style=\"text-align: right;\">\n",
       "      <th></th>\n",
       "      <th>Neighborhood</th>\n",
       "      <th>District</th>\n",
       "    </tr>\n",
       "  </thead>\n",
       "  <tbody>\n",
       "    <tr>\n",
       "      <td>0</td>\n",
       "      <td>North Seattle</td>\n",
       "      <td>Seattle</td>\n",
       "    </tr>\n",
       "    <tr>\n",
       "      <td>1</td>\n",
       "      <td>Broadview</td>\n",
       "      <td>North Seattle[42]</td>\n",
       "    </tr>\n",
       "    <tr>\n",
       "      <td>2</td>\n",
       "      <td>Bitter Lake</td>\n",
       "      <td>North Seattle[42]</td>\n",
       "    </tr>\n",
       "    <tr>\n",
       "      <td>3</td>\n",
       "      <td>North Beach / Blue Ridge</td>\n",
       "      <td>North Seattle[42]</td>\n",
       "    </tr>\n",
       "    <tr>\n",
       "      <td>4</td>\n",
       "      <td>Crown Hill</td>\n",
       "      <td>North Seattle[42]</td>\n",
       "    </tr>\n",
       "  </tbody>\n",
       "</table>\n",
       "</div>"
      ],
      "text/plain": [
       "               Neighborhood           District\n",
       "0             North Seattle            Seattle\n",
       "1                 Broadview  North Seattle[42]\n",
       "2               Bitter Lake  North Seattle[42]\n",
       "3  North Beach / Blue Ridge  North Seattle[42]\n",
       "4                Crown Hill  North Seattle[42]"
      ]
     },
     "execution_count": 8,
     "metadata": {},
     "output_type": "execute_result"
    }
   ],
   "source": [
    "#Looking for data that needs to be cleaned:\n",
    "sn.head()"
   ]
  },
  {
   "cell_type": "code",
   "execution_count": 9,
   "metadata": {},
   "outputs": [],
   "source": [
    "# Cleaning up addresses:\n",
    "sn['District'].replace(r'\\[.*?\\]','',regex=True, inplace=True)\n",
    "sn['District'] = sn['District'].str.split('/',1, expand=True)\n",
    "sn['Neighborhood'].replace(r'\\[.*?\\]','',regex=True, inplace=True)\n",
    "sn['Neighborhood'] = sn['Neighborhood'].str.split('/',1, expand=True)\n",
    "sn['Neighborhood'] = sn['Neighborhood'].str.split('(',1, expand=True)\n",
    "sn['Neighborhood'] = sn['Neighborhood'].str.split('&',1, expand=True)\n",
    "sn['Neighborhood'] = sn['Neighborhood'].str.split(',',1, expand=True)\n",
    "sn['Neighborhood'] = sn['Neighborhood'].str.split('\\n',1, expand=True)"
   ]
  },
  {
   "cell_type": "code",
   "execution_count": 11,
   "metadata": {},
   "outputs": [
    {
     "data": {
      "text/plain": [
       "(127, 2)"
      ]
     },
     "execution_count": 11,
     "metadata": {},
     "output_type": "execute_result"
    }
   ],
   "source": [
    "# Check the shape prior to deletion\n",
    "sn.shape"
   ]
  },
  {
   "cell_type": "code",
   "execution_count": 12,
   "metadata": {},
   "outputs": [],
   "source": [
    "#Check the Shape prior to deletion\n",
    "# Removing addresses that did not return lat and longs or completely wrong data\n",
    "sn.drop([34,53,58,67,100,101,103,104], inplace=True)\n",
    "sn.reset_index(inplace=True,drop=True)\n",
    "# 34 = West Woodland\n",
    "# 53 = Pike-Pine Corridor\n",
    "# 58 = Renton Hill, returns renton slightly outside main area\n",
    "# 67 = Denny Triangle\n",
    "# 100 = North Beacon Hill\n",
    "# 101 = Mid Beacon Hill\n",
    "# 103 = South Beach Hill\n",
    "# 104 = Industrial district"
   ]
  },
  {
   "cell_type": "code",
   "execution_count": 13,
   "metadata": {},
   "outputs": [
    {
     "data": {
      "text/plain": [
       "(119, 2)"
      ]
     },
     "execution_count": 13,
     "metadata": {},
     "output_type": "execute_result"
    }
   ],
   "source": [
    "#Check the Shape post deletion\n",
    "sn.shape"
   ]
  },
  {
   "cell_type": "code",
   "execution_count": 14,
   "metadata": {},
   "outputs": [
    {
     "data": {
      "text/plain": [
       "(119,)"
      ]
     },
     "execution_count": 14,
     "metadata": {},
     "output_type": "execute_result"
    }
   ],
   "source": [
    "# Prep data to get addresses\n",
    "city_state = ', Seattle, Washington'\n",
    "addresses = sn['Neighborhood'] + city_state\n",
    "locations = pd.DataFrame(columns=['Lat','Long'])\n",
    "addresses.head()\n",
    "addresses.shape"
   ]
  },
  {
   "cell_type": "markdown",
   "metadata": {},
   "source": [
    "## Geocoding Addresses <a name='geo'></a>"
   ]
  },
  {
   "cell_type": "code",
   "execution_count": 15,
   "metadata": {},
   "outputs": [],
   "source": [
    "# Feed in the addresses to get the lat and long\n",
    "geolocator = Nominatim(user_agent=\"Seattle_Neighborhoods\")\n",
    "n = 0\n",
    "for address in addresses:\n",
    "    location = geolocator.geocode(address)\n",
    "    locations.at[n,'Lat'] = location.latitude\n",
    "    locations.at[n,'Long'] = location.longitude\n",
    "    n = n + 1"
   ]
  },
  {
   "cell_type": "code",
   "execution_count": 16,
   "metadata": {},
   "outputs": [
    {
     "data": {
      "text/html": [
       "<div>\n",
       "<style scoped>\n",
       "    .dataframe tbody tr th:only-of-type {\n",
       "        vertical-align: middle;\n",
       "    }\n",
       "\n",
       "    .dataframe tbody tr th {\n",
       "        vertical-align: top;\n",
       "    }\n",
       "\n",
       "    .dataframe thead th {\n",
       "        text-align: right;\n",
       "    }\n",
       "</style>\n",
       "<table border=\"1\" class=\"dataframe\">\n",
       "  <thead>\n",
       "    <tr style=\"text-align: right;\">\n",
       "      <th></th>\n",
       "      <th>Neighborhood</th>\n",
       "      <th>District</th>\n",
       "      <th>Lat</th>\n",
       "      <th>Long</th>\n",
       "    </tr>\n",
       "  </thead>\n",
       "  <tbody>\n",
       "    <tr>\n",
       "      <td>0</td>\n",
       "      <td>North Seattle</td>\n",
       "      <td>Seattle</td>\n",
       "      <td>47.6608</td>\n",
       "      <td>-122.291</td>\n",
       "    </tr>\n",
       "    <tr>\n",
       "      <td>1</td>\n",
       "      <td>Broadview</td>\n",
       "      <td>North Seattle</td>\n",
       "      <td>47.7223</td>\n",
       "      <td>-122.36</td>\n",
       "    </tr>\n",
       "    <tr>\n",
       "      <td>2</td>\n",
       "      <td>Bitter Lake</td>\n",
       "      <td>North Seattle</td>\n",
       "      <td>47.7262</td>\n",
       "      <td>-122.349</td>\n",
       "    </tr>\n",
       "    <tr>\n",
       "      <td>3</td>\n",
       "      <td>North Beach</td>\n",
       "      <td>North Seattle</td>\n",
       "      <td>47.6962</td>\n",
       "      <td>-122.392</td>\n",
       "    </tr>\n",
       "    <tr>\n",
       "      <td>4</td>\n",
       "      <td>Crown Hill</td>\n",
       "      <td>North Seattle</td>\n",
       "      <td>47.6947</td>\n",
       "      <td>-122.371</td>\n",
       "    </tr>\n",
       "  </tbody>\n",
       "</table>\n",
       "</div>"
      ],
      "text/plain": [
       "    Neighborhood       District      Lat     Long\n",
       "0  North Seattle        Seattle  47.6608 -122.291\n",
       "1      Broadview  North Seattle  47.7223  -122.36\n",
       "2    Bitter Lake  North Seattle  47.7262 -122.349\n",
       "3   North Beach   North Seattle  47.6962 -122.392\n",
       "4     Crown Hill  North Seattle  47.6947 -122.371"
      ]
     },
     "execution_count": 16,
     "metadata": {},
     "output_type": "execute_result"
    }
   ],
   "source": [
    "# Concat neighborhoods with locations since index is the same\n",
    "sn = pd.concat([sn,locations], axis = 1)\n",
    "sn.head()"
   ]
  },
  {
   "cell_type": "code",
   "execution_count": 34,
   "metadata": {},
   "outputs": [],
   "source": [
    "# Export data for use\n",
    "sn.to_csv('sn.csv')"
   ]
  },
  {
   "cell_type": "code",
   "execution_count": 35,
   "metadata": {
    "collapsed": true,
    "jupyter": {
     "outputs_hidden": true
    }
   },
   "outputs": [
    {
     "data": {
      "text/html": [
       "<div style=\"width:100%;\"><div style=\"position:relative;width:100%;height:0;padding-bottom:60%;\"><span style=\"color:#565656\">Make this Notebook Trusted to load map: File -> Trust Notebook</span><iframe src=\"about:blank\" style=\"position:absolute;width:100%;height:100%;left:0;top:0;border:none !important;\" data-html=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 onload=\"this.contentDocument.open();this.contentDocument.write(atob(this.getAttribute('data-html')));this.contentDocument.close();\" allowfullscreen webkitallowfullscreen mozallowfullscreen></iframe></div></div>"
      ],
      "text/plain": [
       "<folium.folium.Map at 0x23bc98c3a88>"
      ]
     },
     "execution_count": 35,
     "metadata": {},
     "output_type": "execute_result"
    }
   ],
   "source": [
    "# Quick visual to ensure they are within proximity of each other\n",
    "# Base lat,long\n",
    "seattle_lat = 47.6062\n",
    "seattle_long = -122.3321\n",
    "\n",
    "# Mapping Toronto\n",
    "map_seattle = folium.Map(location=[seattle_lat,seattle_long], zoom_start = 11)\n",
    "\n",
    "# add markers to map\n",
    "for lat, lng, neighborhood, district in zip(sn['Lat'], sn['Long'], sn['Neighborhood'], sn['District']):\n",
    "    label = '{}, {}'.format(neighborhood, district)\n",
    "    label = folium.Popup(label, parse_html=True)\n",
    "    folium.CircleMarker(\n",
    "        [lat, lng],\n",
    "        radius=5,\n",
    "        popup=label,\n",
    "        color='blue',\n",
    "        fill=True,\n",
    "        fill_color='#3186cc',\n",
    "        fill_opacity=0.7,\n",
    "        parse_html=False).add_to(map_seattle)  \n",
    "map_seattle"
   ]
  },
  {
   "cell_type": "markdown",
   "metadata": {},
   "source": [
    "## Foursquare Explore Endpoint: <a name='explore'></a>"
   ]
  },
  {
   "cell_type": "code",
   "execution_count": 8,
   "metadata": {},
   "outputs": [],
   "source": [
    "# Parameters\n",
    "Client_ID = 'Insert your own'\n",
    "Client_Secret = 'Insert your own'\n",
    "version = '20180605'\n",
    "seattle_lat = 47.6062\n",
    "seattle_long = -122.3321\n",
    "limit = 100\n",
    "radius = 500"
   ]
  },
  {
   "cell_type": "code",
   "execution_count": 37,
   "metadata": {
    "jupyter": {
     "source_hidden": true
    }
   },
   "outputs": [],
   "source": [
    "\n",
    "# Explore Data\n",
    "# Can be made into a function to gather each neighborhoods info -- see toronto testing\n",
    "explore_url = 'https://api.foursquare.com/v2/venues/explore?&client_id={}&client_secret={}&v={}&ll={},{}&radius={}&limit={}'.format(\n",
    "    Client_ID, \n",
    "    Client_Secret, \n",
    "    version, \n",
    "    seattle_lat, \n",
    "    seattle_long, \n",
    "    radius,\n",
    "    limit)\n",
    "# Details data (Premium Calls)\n"
   ]
  },
  {
   "cell_type": "code",
   "execution_count": 20,
   "metadata": {},
   "outputs": [],
   "source": [
    "# Make calls to every seattle neighborhood\n",
    "def getNearbyVenues(names, latitudes, longitudes, radius=500):\n",
    "    \n",
    "    venues_list=[]\n",
    "    for name, lat, lng in zip(names, latitudes, longitudes):\n",
    "        # create the API request URL\n",
    "        url = 'https://api.foursquare.com/v2/venues/explore?&client_id={}&client_secret={}&v={}&ll={},{}&radius={}&limit={}'.format(\n",
    "            Client_ID, \n",
    "            Client_Secret, \n",
    "            version, \n",
    "            lat, \n",
    "            lng, \n",
    "            radius, \n",
    "            limit)\n",
    "            \n",
    "        # make the GET request\n",
    "        results = requests.get(url).json()[\"response\"]['groups'][0]['items']\n",
    "        \n",
    "        # return only relevant information for each nearby venue\n",
    "        venues_list.append([(\n",
    "            name, \n",
    "            lat, \n",
    "            lng, \n",
    "            v['venue']['name'], \n",
    "            v['venue']['id'],\n",
    "            v['venue']['location']['lat'], \n",
    "            v['venue']['location']['lng'],  \n",
    "            v['venue']['categories'][0]['name']) for v in results])\n",
    "\n",
    "    nearby_venues = pd.DataFrame([item for venue_list in venues_list for item in venue_list])\n",
    "    nearby_venues.columns = ['Neighborhood', \n",
    "                  'Neighborhood Latitude', \n",
    "                  'Neighborhood Longitude', \n",
    "                  'Venue', \n",
    "                  'id',\n",
    "                  'Venue Latitude', \n",
    "                  'Venue Longitude', \n",
    "                  'Venue Category']\n",
    "    \n",
    "    return(nearby_venues)"
   ]
  },
  {
   "cell_type": "code",
   "execution_count": 21,
   "metadata": {},
   "outputs": [],
   "source": [
    "# Dataset with all neighborhoods, their venues, and more\n",
    "seattle_venues = getNearbyVenues(names=sn['Neighborhood'],\n",
    "                                   latitudes=sn['Lat'],\n",
    "                                   longitudes=sn['Long']\n",
    "                                  )"
   ]
  },
  {
   "cell_type": "code",
   "execution_count": 22,
   "metadata": {},
   "outputs": [
    {
     "data": {
      "text/html": [
       "<div>\n",
       "<style scoped>\n",
       "    .dataframe tbody tr th:only-of-type {\n",
       "        vertical-align: middle;\n",
       "    }\n",
       "\n",
       "    .dataframe tbody tr th {\n",
       "        vertical-align: top;\n",
       "    }\n",
       "\n",
       "    .dataframe thead th {\n",
       "        text-align: right;\n",
       "    }\n",
       "</style>\n",
       "<table border=\"1\" class=\"dataframe\">\n",
       "  <thead>\n",
       "    <tr style=\"text-align: right;\">\n",
       "      <th></th>\n",
       "      <th>Neighborhood</th>\n",
       "      <th>Neighborhood Latitude</th>\n",
       "      <th>Neighborhood Longitude</th>\n",
       "      <th>Venue</th>\n",
       "      <th>id</th>\n",
       "      <th>Venue Latitude</th>\n",
       "      <th>Venue Longitude</th>\n",
       "      <th>Venue Category</th>\n",
       "    </tr>\n",
       "  </thead>\n",
       "  <tbody>\n",
       "    <tr>\n",
       "      <td>0</td>\n",
       "      <td>North Seattle</td>\n",
       "      <td>47.660773</td>\n",
       "      <td>-122.291497</td>\n",
       "      <td>Burke-Gilman Brewing Company</td>\n",
       "      <td>5b538f7e2b9844002ca8dde6</td>\n",
       "      <td>47.661308</td>\n",
       "      <td>-122.288067</td>\n",
       "      <td>Brewery</td>\n",
       "    </tr>\n",
       "    <tr>\n",
       "      <td>1</td>\n",
       "      <td>North Seattle</td>\n",
       "      <td>47.660773</td>\n",
       "      <td>-122.291497</td>\n",
       "      <td>Center for Urban Horticulture</td>\n",
       "      <td>4aa2e52ef964a520824220e3</td>\n",
       "      <td>47.657978</td>\n",
       "      <td>-122.290237</td>\n",
       "      <td>College Science Building</td>\n",
       "    </tr>\n",
       "    <tr>\n",
       "      <td>2</td>\n",
       "      <td>North Seattle</td>\n",
       "      <td>47.660773</td>\n",
       "      <td>-122.291497</td>\n",
       "      <td>Jak's Grill</td>\n",
       "      <td>4abc357af964a520c98620e3</td>\n",
       "      <td>47.661072</td>\n",
       "      <td>-122.288073</td>\n",
       "      <td>Steakhouse</td>\n",
       "    </tr>\n",
       "    <tr>\n",
       "      <td>3</td>\n",
       "      <td>North Seattle</td>\n",
       "      <td>47.660773</td>\n",
       "      <td>-122.291497</td>\n",
       "      <td>Baskin-Robbins</td>\n",
       "      <td>4af5ed48f964a520eafe21e3</td>\n",
       "      <td>47.661336</td>\n",
       "      <td>-122.292004</td>\n",
       "      <td>Ice Cream Shop</td>\n",
       "    </tr>\n",
       "    <tr>\n",
       "      <td>4</td>\n",
       "      <td>North Seattle</td>\n",
       "      <td>47.660773</td>\n",
       "      <td>-122.291497</td>\n",
       "      <td>The Seattle Gym</td>\n",
       "      <td>4b774cc8f964a52019902ee3</td>\n",
       "      <td>47.661273</td>\n",
       "      <td>-122.286642</td>\n",
       "      <td>Gym</td>\n",
       "    </tr>\n",
       "  </tbody>\n",
       "</table>\n",
       "</div>"
      ],
      "text/plain": [
       "    Neighborhood  Neighborhood Latitude  Neighborhood Longitude  \\\n",
       "0  North Seattle              47.660773             -122.291497   \n",
       "1  North Seattle              47.660773             -122.291497   \n",
       "2  North Seattle              47.660773             -122.291497   \n",
       "3  North Seattle              47.660773             -122.291497   \n",
       "4  North Seattle              47.660773             -122.291497   \n",
       "\n",
       "                           Venue                        id  Venue Latitude  \\\n",
       "0   Burke-Gilman Brewing Company  5b538f7e2b9844002ca8dde6       47.661308   \n",
       "1  Center for Urban Horticulture  4aa2e52ef964a520824220e3       47.657978   \n",
       "2                    Jak's Grill  4abc357af964a520c98620e3       47.661072   \n",
       "3                 Baskin-Robbins  4af5ed48f964a520eafe21e3       47.661336   \n",
       "4                The Seattle Gym  4b774cc8f964a52019902ee3       47.661273   \n",
       "\n",
       "   Venue Longitude            Venue Category  \n",
       "0      -122.288067                   Brewery  \n",
       "1      -122.290237  College Science Building  \n",
       "2      -122.288073                Steakhouse  \n",
       "3      -122.292004            Ice Cream Shop  \n",
       "4      -122.286642                       Gym  "
      ]
     },
     "execution_count": 22,
     "metadata": {},
     "output_type": "execute_result"
    }
   ],
   "source": [
    "seattle_venues.head()"
   ]
  },
  {
   "cell_type": "code",
   "execution_count": 23,
   "metadata": {},
   "outputs": [
    {
     "data": {
      "text/plain": [
       "(3390, 8)"
      ]
     },
     "execution_count": 23,
     "metadata": {},
     "output_type": "execute_result"
    }
   ],
   "source": [
    "seattle_venues.shape"
   ]
  },
  {
   "cell_type": "code",
   "execution_count": 25,
   "metadata": {},
   "outputs": [
    {
     "name": "stdout",
     "output_type": "stream",
     "text": [
      "There are 308 uniques categories.\n"
     ]
    }
   ],
   "source": [
    "print('There are {} uniques categories.'.format(len(seattle_venues['Venue Category'].unique())))"
   ]
  },
  {
   "cell_type": "code",
   "execution_count": 27,
   "metadata": {},
   "outputs": [],
   "source": [
    "# Exporting data for use\n",
    "seattle_venues.to_csv('seattle_venues.csv')"
   ]
  },
  {
   "cell_type": "markdown",
   "metadata": {},
   "source": [
    "## Foursquare Details Endpoint <a name='details'></a>"
   ]
  },
  {
   "cell_type": "code",
   "execution_count": 7,
   "metadata": {},
   "outputs": [],
   "source": [
    "# Obtain details for all venues acquired\n",
    "def getVenueDetails(venue_ids):\n",
    "    \n",
    "    details_list=[]\n",
    "    for venue_id in venue_ids:\n",
    "        # create the API request URL\n",
    "        url = 'https://api.foursquare.com/v2/venues/{}?&client_id={}&client_secret={}&v={}'.format(\n",
    "            venue_id,\n",
    "            Client_ID, \n",
    "            Client_Secret,\n",
    "            version)\n",
    "            \n",
    "        # make the GET request\n",
    "        details_response = requests.get(url).json()[\"response\"]['venue']\n",
    "        \n",
    "        # return only relevant information for each nearby venue\n",
    "        details_list.append([\n",
    "        details_response['id'],\n",
    "        details_response['price']['tier'] if 'price' in details_response else 0,\n",
    "        details_response['rating'] if 'rating' in details_response else 0])\n",
    "        details_table = pd.DataFrame(details_list)\n",
    "        details_table.columns = ['id','price','rating']\n",
    "    \n",
    "    return(details_table)"
   ]
  },
  {
   "cell_type": "code",
   "execution_count": 2,
   "metadata": {},
   "outputs": [],
   "source": [
    "# read in initial query\n",
    "seattle_venues = pd.read_csv('seattle_venues.csv')"
   ]
  },
  {
   "cell_type": "code",
   "execution_count": 3,
   "metadata": {},
   "outputs": [
    {
     "data": {
      "text/html": [
       "<div>\n",
       "<style scoped>\n",
       "    .dataframe tbody tr th:only-of-type {\n",
       "        vertical-align: middle;\n",
       "    }\n",
       "\n",
       "    .dataframe tbody tr th {\n",
       "        vertical-align: top;\n",
       "    }\n",
       "\n",
       "    .dataframe thead th {\n",
       "        text-align: right;\n",
       "    }\n",
       "</style>\n",
       "<table border=\"1\" class=\"dataframe\">\n",
       "  <thead>\n",
       "    <tr style=\"text-align: right;\">\n",
       "      <th></th>\n",
       "      <th>Unnamed: 0</th>\n",
       "      <th>Neighborhood</th>\n",
       "      <th>Neighborhood Latitude</th>\n",
       "      <th>Neighborhood Longitude</th>\n",
       "      <th>Venue</th>\n",
       "      <th>id</th>\n",
       "      <th>Venue Latitude</th>\n",
       "      <th>Venue Longitude</th>\n",
       "      <th>Venue Category</th>\n",
       "    </tr>\n",
       "  </thead>\n",
       "  <tbody>\n",
       "    <tr>\n",
       "      <td>0</td>\n",
       "      <td>0</td>\n",
       "      <td>North Seattle</td>\n",
       "      <td>47.660773</td>\n",
       "      <td>-122.291497</td>\n",
       "      <td>Burke-Gilman Brewing Company</td>\n",
       "      <td>5b538f7e2b9844002ca8dde6</td>\n",
       "      <td>47.661308</td>\n",
       "      <td>-122.288067</td>\n",
       "      <td>Brewery</td>\n",
       "    </tr>\n",
       "    <tr>\n",
       "      <td>1</td>\n",
       "      <td>1</td>\n",
       "      <td>North Seattle</td>\n",
       "      <td>47.660773</td>\n",
       "      <td>-122.291497</td>\n",
       "      <td>Center for Urban Horticulture</td>\n",
       "      <td>4aa2e52ef964a520824220e3</td>\n",
       "      <td>47.657978</td>\n",
       "      <td>-122.290237</td>\n",
       "      <td>College Science Building</td>\n",
       "    </tr>\n",
       "    <tr>\n",
       "      <td>2</td>\n",
       "      <td>2</td>\n",
       "      <td>North Seattle</td>\n",
       "      <td>47.660773</td>\n",
       "      <td>-122.291497</td>\n",
       "      <td>Jak's Grill</td>\n",
       "      <td>4abc357af964a520c98620e3</td>\n",
       "      <td>47.661072</td>\n",
       "      <td>-122.288073</td>\n",
       "      <td>Steakhouse</td>\n",
       "    </tr>\n",
       "    <tr>\n",
       "      <td>3</td>\n",
       "      <td>3</td>\n",
       "      <td>North Seattle</td>\n",
       "      <td>47.660773</td>\n",
       "      <td>-122.291497</td>\n",
       "      <td>Baskin-Robbins</td>\n",
       "      <td>4af5ed48f964a520eafe21e3</td>\n",
       "      <td>47.661336</td>\n",
       "      <td>-122.292004</td>\n",
       "      <td>Ice Cream Shop</td>\n",
       "    </tr>\n",
       "    <tr>\n",
       "      <td>4</td>\n",
       "      <td>4</td>\n",
       "      <td>North Seattle</td>\n",
       "      <td>47.660773</td>\n",
       "      <td>-122.291497</td>\n",
       "      <td>The Seattle Gym</td>\n",
       "      <td>4b774cc8f964a52019902ee3</td>\n",
       "      <td>47.661273</td>\n",
       "      <td>-122.286642</td>\n",
       "      <td>Gym</td>\n",
       "    </tr>\n",
       "  </tbody>\n",
       "</table>\n",
       "</div>"
      ],
      "text/plain": [
       "   Unnamed: 0   Neighborhood  Neighborhood Latitude  Neighborhood Longitude  \\\n",
       "0           0  North Seattle              47.660773             -122.291497   \n",
       "1           1  North Seattle              47.660773             -122.291497   \n",
       "2           2  North Seattle              47.660773             -122.291497   \n",
       "3           3  North Seattle              47.660773             -122.291497   \n",
       "4           4  North Seattle              47.660773             -122.291497   \n",
       "\n",
       "                           Venue                        id  Venue Latitude  \\\n",
       "0   Burke-Gilman Brewing Company  5b538f7e2b9844002ca8dde6       47.661308   \n",
       "1  Center for Urban Horticulture  4aa2e52ef964a520824220e3       47.657978   \n",
       "2                    Jak's Grill  4abc357af964a520c98620e3       47.661072   \n",
       "3                 Baskin-Robbins  4af5ed48f964a520eafe21e3       47.661336   \n",
       "4                The Seattle Gym  4b774cc8f964a52019902ee3       47.661273   \n",
       "\n",
       "   Venue Longitude            Venue Category  \n",
       "0      -122.288067                   Brewery  \n",
       "1      -122.290237  College Science Building  \n",
       "2      -122.288073                Steakhouse  \n",
       "3      -122.292004            Ice Cream Shop  \n",
       "4      -122.286642                       Gym  "
      ]
     },
     "execution_count": 3,
     "metadata": {},
     "output_type": "execute_result"
    }
   ],
   "source": [
    "seattle_venues.head()"
   ]
  },
  {
   "cell_type": "code",
   "execution_count": 4,
   "metadata": {},
   "outputs": [],
   "source": [
    "# Cleaning up\n",
    "venue_ids = seattle_venues['id']\n",
    "venue_ids.drop_duplicates(inplace=True)\n",
    "venue_ids.reset_index(inplace=True,drop=True)"
   ]
  },
  {
   "cell_type": "markdown",
   "metadata": {},
   "source": [
    "## Note: The Premium Call limit is 500 per day. Therefore, I had to parse out my premium calls to each unique venue"
   ]
  },
  {
   "cell_type": "code",
   "execution_count": 99,
   "metadata": {},
   "outputs": [],
   "source": [
    "#First Day: First 300 of 2285\n",
    "first_venue_details = venue_ids[0:300]\n",
    "first_seattle_venues_details = getVenueDetails(first_venue_details)"
   ]
  },
  {
   "cell_type": "code",
   "execution_count": 105,
   "metadata": {},
   "outputs": [],
   "source": [
    "first_seattle_venues_details.to_csv('first_seattle_venues_details.csv')"
   ]
  },
  {
   "cell_type": "code",
   "execution_count": 27,
   "metadata": {},
   "outputs": [],
   "source": [
    "# Second Day:300 to 799\n",
    "second_venue_details = venue_ids[300:800]\n",
    "second_seattle_venues_details = getVenueDetails(second_venue_details)"
   ]
  },
  {
   "cell_type": "code",
   "execution_count": 28,
   "metadata": {},
   "outputs": [
    {
     "data": {
      "text/html": [
       "<div>\n",
       "<style scoped>\n",
       "    .dataframe tbody tr th:only-of-type {\n",
       "        vertical-align: middle;\n",
       "    }\n",
       "\n",
       "    .dataframe tbody tr th {\n",
       "        vertical-align: top;\n",
       "    }\n",
       "\n",
       "    .dataframe thead th {\n",
       "        text-align: right;\n",
       "    }\n",
       "</style>\n",
       "<table border=\"1\" class=\"dataframe\">\n",
       "  <thead>\n",
       "    <tr style=\"text-align: right;\">\n",
       "      <th></th>\n",
       "      <th>id</th>\n",
       "      <th>price</th>\n",
       "      <th>rating</th>\n",
       "    </tr>\n",
       "  </thead>\n",
       "  <tbody>\n",
       "    <tr>\n",
       "      <td>0</td>\n",
       "      <td>52e572e4498ec75b76158ae1</td>\n",
       "      <td>0</td>\n",
       "      <td>0.0</td>\n",
       "    </tr>\n",
       "    <tr>\n",
       "      <td>1</td>\n",
       "      <td>4b834228f964a52080ff30e3</td>\n",
       "      <td>1</td>\n",
       "      <td>7.1</td>\n",
       "    </tr>\n",
       "    <tr>\n",
       "      <td>2</td>\n",
       "      <td>4f31f205e4b09c2f100ab3c2</td>\n",
       "      <td>0</td>\n",
       "      <td>0.0</td>\n",
       "    </tr>\n",
       "    <tr>\n",
       "      <td>3</td>\n",
       "      <td>5bbfb34aad1789002c51aba1</td>\n",
       "      <td>1</td>\n",
       "      <td>0.0</td>\n",
       "    </tr>\n",
       "    <tr>\n",
       "      <td>4</td>\n",
       "      <td>4b68c40bf964a520b58b2be3</td>\n",
       "      <td>0</td>\n",
       "      <td>0.0</td>\n",
       "    </tr>\n",
       "  </tbody>\n",
       "</table>\n",
       "</div>"
      ],
      "text/plain": [
       "                         id  price  rating\n",
       "0  52e572e4498ec75b76158ae1      0     0.0\n",
       "1  4b834228f964a52080ff30e3      1     7.1\n",
       "2  4f31f205e4b09c2f100ab3c2      0     0.0\n",
       "3  5bbfb34aad1789002c51aba1      1     0.0\n",
       "4  4b68c40bf964a520b58b2be3      0     0.0"
      ]
     },
     "execution_count": 28,
     "metadata": {},
     "output_type": "execute_result"
    }
   ],
   "source": [
    "second_seattle_venues_details.head()"
   ]
  },
  {
   "cell_type": "code",
   "execution_count": 29,
   "metadata": {},
   "outputs": [],
   "source": [
    "second_seattle_venues_details.to_csv('second_seattle_venues_details.csv')"
   ]
  },
  {
   "cell_type": "code",
   "execution_count": 61,
   "metadata": {},
   "outputs": [],
   "source": [
    "# Third Day: 800 - 1299\n",
    "third_venue_details = venue_ids[800:1300]\n",
    "third_seattle_venues_details = getVenueDetails(third_venue_details)"
   ]
  },
  {
   "cell_type": "code",
   "execution_count": 63,
   "metadata": {},
   "outputs": [
    {
     "data": {
      "text/html": [
       "<div>\n",
       "<style scoped>\n",
       "    .dataframe tbody tr th:only-of-type {\n",
       "        vertical-align: middle;\n",
       "    }\n",
       "\n",
       "    .dataframe tbody tr th {\n",
       "        vertical-align: top;\n",
       "    }\n",
       "\n",
       "    .dataframe thead th {\n",
       "        text-align: right;\n",
       "    }\n",
       "</style>\n",
       "<table border=\"1\" class=\"dataframe\">\n",
       "  <thead>\n",
       "    <tr style=\"text-align: right;\">\n",
       "      <th></th>\n",
       "      <th>id</th>\n",
       "      <th>price</th>\n",
       "      <th>rating</th>\n",
       "    </tr>\n",
       "  </thead>\n",
       "  <tbody>\n",
       "    <tr>\n",
       "      <td>0</td>\n",
       "      <td>562999b3498ed376b4722af2</td>\n",
       "      <td>0</td>\n",
       "      <td>8.2</td>\n",
       "    </tr>\n",
       "    <tr>\n",
       "      <td>1</td>\n",
       "      <td>57767834498e7b1d7599e9db</td>\n",
       "      <td>1</td>\n",
       "      <td>8.2</td>\n",
       "    </tr>\n",
       "    <tr>\n",
       "      <td>2</td>\n",
       "      <td>4ad2595cf964a5200be120e3</td>\n",
       "      <td>0</td>\n",
       "      <td>7.8</td>\n",
       "    </tr>\n",
       "    <tr>\n",
       "      <td>3</td>\n",
       "      <td>4b53aaaaf964a52002a727e3</td>\n",
       "      <td>1</td>\n",
       "      <td>7.9</td>\n",
       "    </tr>\n",
       "    <tr>\n",
       "      <td>4</td>\n",
       "      <td>4b0f0bd0f964a5208c5e23e3</td>\n",
       "      <td>0</td>\n",
       "      <td>8.3</td>\n",
       "    </tr>\n",
       "  </tbody>\n",
       "</table>\n",
       "</div>"
      ],
      "text/plain": [
       "                         id  price  rating\n",
       "0  562999b3498ed376b4722af2      0     8.2\n",
       "1  57767834498e7b1d7599e9db      1     8.2\n",
       "2  4ad2595cf964a5200be120e3      0     7.8\n",
       "3  4b53aaaaf964a52002a727e3      1     7.9\n",
       "4  4b0f0bd0f964a5208c5e23e3      0     8.3"
      ]
     },
     "execution_count": 63,
     "metadata": {},
     "output_type": "execute_result"
    }
   ],
   "source": [
    "third_seattle_venues_details.head()"
   ]
  },
  {
   "cell_type": "code",
   "execution_count": 64,
   "metadata": {},
   "outputs": [],
   "source": [
    "third_seattle_venues_details.to_csv('third_seattle_venues_details.csv')"
   ]
  },
  {
   "cell_type": "code",
   "execution_count": 10,
   "metadata": {},
   "outputs": [],
   "source": [
    "# Fourth Day: 1300 - 1799\n",
    "fourth_venue_details = venue_ids[1300:1800]\n",
    "fourth_seattle_venues_details = getVenueDetails(fourth_venue_details)"
   ]
  },
  {
   "cell_type": "code",
   "execution_count": 11,
   "metadata": {},
   "outputs": [
    {
     "data": {
      "text/html": [
       "<div>\n",
       "<style scoped>\n",
       "    .dataframe tbody tr th:only-of-type {\n",
       "        vertical-align: middle;\n",
       "    }\n",
       "\n",
       "    .dataframe tbody tr th {\n",
       "        vertical-align: top;\n",
       "    }\n",
       "\n",
       "    .dataframe thead th {\n",
       "        text-align: right;\n",
       "    }\n",
       "</style>\n",
       "<table border=\"1\" class=\"dataframe\">\n",
       "  <thead>\n",
       "    <tr style=\"text-align: right;\">\n",
       "      <th></th>\n",
       "      <th>id</th>\n",
       "      <th>price</th>\n",
       "      <th>rating</th>\n",
       "    </tr>\n",
       "  </thead>\n",
       "  <tbody>\n",
       "    <tr>\n",
       "      <td>0</td>\n",
       "      <td>4c114ad6d41e76b0dc26310d</td>\n",
       "      <td>3</td>\n",
       "      <td>7.2</td>\n",
       "    </tr>\n",
       "    <tr>\n",
       "      <td>1</td>\n",
       "      <td>4f2c386ee4b09513aefc06ad</td>\n",
       "      <td>1</td>\n",
       "      <td>7.2</td>\n",
       "    </tr>\n",
       "    <tr>\n",
       "      <td>2</td>\n",
       "      <td>46216d22f964a52091451fe3</td>\n",
       "      <td>4</td>\n",
       "      <td>8.5</td>\n",
       "    </tr>\n",
       "    <tr>\n",
       "      <td>3</td>\n",
       "      <td>59fd011881635b4c218c13bc</td>\n",
       "      <td>1</td>\n",
       "      <td>7.9</td>\n",
       "    </tr>\n",
       "    <tr>\n",
       "      <td>4</td>\n",
       "      <td>5a625db412138424d8d8362a</td>\n",
       "      <td>1</td>\n",
       "      <td>7.3</td>\n",
       "    </tr>\n",
       "  </tbody>\n",
       "</table>\n",
       "</div>"
      ],
      "text/plain": [
       "                         id  price  rating\n",
       "0  4c114ad6d41e76b0dc26310d      3     7.2\n",
       "1  4f2c386ee4b09513aefc06ad      1     7.2\n",
       "2  46216d22f964a52091451fe3      4     8.5\n",
       "3  59fd011881635b4c218c13bc      1     7.9\n",
       "4  5a625db412138424d8d8362a      1     7.3"
      ]
     },
     "execution_count": 11,
     "metadata": {},
     "output_type": "execute_result"
    }
   ],
   "source": [
    "fourth_seattle_venues_details.head()"
   ]
  },
  {
   "cell_type": "code",
   "execution_count": 13,
   "metadata": {},
   "outputs": [],
   "source": [
    "fourth_seattle_venues_details.to_csv('fourth_seattle_venues_details.csv')"
   ]
  },
  {
   "cell_type": "code",
   "execution_count": 9,
   "metadata": {},
   "outputs": [],
   "source": [
    "# Fifth Day: 1800 - 2285\n",
    "fifth_venue_details = venue_ids[1800:2285]\n",
    "fifth_seattle_venues_details = getVenueDetails(fifth_venue_details)"
   ]
  },
  {
   "cell_type": "code",
   "execution_count": 10,
   "metadata": {},
   "outputs": [
    {
     "data": {
      "text/html": [
       "<div>\n",
       "<style scoped>\n",
       "    .dataframe tbody tr th:only-of-type {\n",
       "        vertical-align: middle;\n",
       "    }\n",
       "\n",
       "    .dataframe tbody tr th {\n",
       "        vertical-align: top;\n",
       "    }\n",
       "\n",
       "    .dataframe thead th {\n",
       "        text-align: right;\n",
       "    }\n",
       "</style>\n",
       "<table border=\"1\" class=\"dataframe\">\n",
       "  <thead>\n",
       "    <tr style=\"text-align: right;\">\n",
       "      <th></th>\n",
       "      <th>id</th>\n",
       "      <th>price</th>\n",
       "      <th>rating</th>\n",
       "    </tr>\n",
       "  </thead>\n",
       "  <tbody>\n",
       "    <tr>\n",
       "      <td>0</td>\n",
       "      <td>4ac14ba2f964a5209e9620e3</td>\n",
       "      <td>0</td>\n",
       "      <td>7.8</td>\n",
       "    </tr>\n",
       "    <tr>\n",
       "      <td>1</td>\n",
       "      <td>4b69f47df964a5200dbe2be3</td>\n",
       "      <td>2</td>\n",
       "      <td>7.6</td>\n",
       "    </tr>\n",
       "    <tr>\n",
       "      <td>2</td>\n",
       "      <td>4c13e6c1583c9c7477833fa4</td>\n",
       "      <td>0</td>\n",
       "      <td>7.2</td>\n",
       "    </tr>\n",
       "    <tr>\n",
       "      <td>3</td>\n",
       "      <td>4c5a55e07b049521c644891f</td>\n",
       "      <td>0</td>\n",
       "      <td>7.2</td>\n",
       "    </tr>\n",
       "    <tr>\n",
       "      <td>4</td>\n",
       "      <td>4bd7227c4e32d13ae9c8c380</td>\n",
       "      <td>1</td>\n",
       "      <td>6.8</td>\n",
       "    </tr>\n",
       "  </tbody>\n",
       "</table>\n",
       "</div>"
      ],
      "text/plain": [
       "                         id  price  rating\n",
       "0  4ac14ba2f964a5209e9620e3      0     7.8\n",
       "1  4b69f47df964a5200dbe2be3      2     7.6\n",
       "2  4c13e6c1583c9c7477833fa4      0     7.2\n",
       "3  4c5a55e07b049521c644891f      0     7.2\n",
       "4  4bd7227c4e32d13ae9c8c380      1     6.8"
      ]
     },
     "execution_count": 10,
     "metadata": {},
     "output_type": "execute_result"
    }
   ],
   "source": [
    "fifth_seattle_venues_details.head()"
   ]
  },
  {
   "cell_type": "code",
   "execution_count": 11,
   "metadata": {},
   "outputs": [],
   "source": [
    "fifth_seattle_venues_details.to_csv('fifth_seattle_venues_details.csv')"
   ]
  }
 ],
 "metadata": {
  "kernelspec": {
   "display_name": "Python 3",
   "language": "python",
   "name": "python3"
  },
  "language_info": {
   "codemirror_mode": {
    "name": "ipython",
    "version": 3
   },
   "file_extension": ".py",
   "mimetype": "text/x-python",
   "name": "python",
   "nbconvert_exporter": "python",
   "pygments_lexer": "ipython3",
   "version": "3.7.4"
  }
 },
 "nbformat": 4,
 "nbformat_minor": 4
}
